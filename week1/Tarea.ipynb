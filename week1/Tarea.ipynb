{
 "cells": [
  {
   "cell_type": "code",
   "execution_count": 4,
   "metadata": {},
   "outputs": [],
   "source": [
    "import re\n",
    "import numpy as np"
   ]
  },
  {
   "cell_type": "code",
   "execution_count": 157,
   "metadata": {},
   "outputs": [
    {
     "data": {
      "text/plain": [
       "['Amy', 'Mary', 'Ruth', 'Peter']"
      ]
     },
     "execution_count": 157,
     "metadata": {},
     "output_type": "execute_result"
    }
   ],
   "source": [
    "import re\n",
    "\n",
    "simple_string = \"\"\"Amy is 5 years old, and her sister Mary is 2 years old. \n",
    "    Ruth and Peter, their parents, have 3 kids.\"\"\"\n",
    "    \n",
    "a = re.findall(\"[A-Z][a-z]*\",simple_string)\n",
    "    \n",
    "a"
   ]
  },
  {
   "cell_type": "code",
   "execution_count": 160,
   "metadata": {},
   "outputs": [
    {
     "data": {
      "text/plain": [
       "['Bell Kassulke',\n",
       " 'Simon Loidl',\n",
       " 'Elias Jovanovic',\n",
       " 'Hakim Botros',\n",
       " 'Emilie Lorentsen',\n",
       " 'Jake Wood',\n",
       " 'Fatemeh Akhtar',\n",
       " 'Kim Weston',\n",
       " 'Yasmin Dar',\n",
       " 'Viswamitra Upandhye',\n",
       " 'Killian Kaufman',\n",
       " 'Elwood Page',\n",
       " 'Elodie Booker',\n",
       " 'Adnan Chen',\n",
       " 'Hank Spinka',\n",
       " 'Hannah Bayer']"
      ]
     },
     "execution_count": 160,
     "metadata": {},
     "output_type": "execute_result"
    }
   ],
   "source": [
    "import re\n",
    "def grades():\n",
    "    with open (\"grades.txt\", \"r\") as file:\n",
    "        grades = file.read()\n",
    "        \n",
    "    final = []\n",
    "    lista = re.findall(\"[a-zA-Z ]*: B\",grades)\n",
    "        \n",
    "    for i in lista:\n",
    "        final.append(re.split(\":\",i)[0])\n",
    "    return final\n",
    "grades()\n"
   ]
  },
  {
   "cell_type": "code",
   "execution_count": 207,
   "metadata": {},
   "outputs": [
    {
     "name": "stderr",
     "output_type": "stream",
     "text": [
      "<>:8: SyntaxWarning: invalid escape sequence '\\d'\n",
      "<>:8: SyntaxWarning: invalid escape sequence '\\d'\n",
      "/tmp/ipykernel_26672/1315771670.py:8: SyntaxWarning: invalid escape sequence '\\d'\n",
      "  pattern = \"\"\"\n"
     ]
    },
    {
     "data": {
      "text/plain": [
       "979"
      ]
     },
     "execution_count": 207,
     "metadata": {},
     "output_type": "execute_result"
    }
   ],
   "source": [
    "import re\n",
    "\n",
    "with open(\"logdata.txt\", \"r\") as file:\n",
    "    logdata = file.read()\n",
    "\n",
    "lista = []\n",
    "\n",
    "pattern = \"\"\"\n",
    "(?P<host>\\d+\\.\\d+\\.\\d+\\.\\d+)\\s+-\\s\n",
    "(?P<user_name>[\\w-]+)\\s\\[\n",
    "(?P<time>[\\w/: -]+)]\\s\"\n",
    "(?P<request>[POST|GET|DELETE|PATCH|HEAD|PUT][\\w/: -.]+)\"\n",
    "\"\"\"\n",
    "for i in re.finditer(pattern,logdata,re.VERBOSE):\n",
    "    lista.append(i.groupdict())\n",
    "\n",
    "len(lista)\n",
    "\n",
    "\n"
   ]
  },
  {
   "cell_type": "code",
   "execution_count": 192,
   "metadata": {},
   "outputs": [
    {
     "name": "stderr",
     "output_type": "stream",
     "text": [
      "<>:8: SyntaxWarning: invalid escape sequence '\\d'\n",
      "<>:8: SyntaxWarning: invalid escape sequence '\\d'\n",
      "/tmp/ipykernel_26672/79356533.py:8: SyntaxWarning: invalid escape sequence '\\d'\n",
      "  pattern = \"\"\"\n"
     ]
    },
    {
     "data": {
      "text/plain": [
       "180"
      ]
     },
     "execution_count": 192,
     "metadata": {},
     "output_type": "execute_result"
    }
   ],
   "source": [
    "import re\n",
    "def logs():\n",
    "    with open(\"logdata.txt\", \"r\") as file:\n",
    "        logdata = file.read()\n",
    "\n",
    "    lista = []\n",
    "\n",
    "    pattern = \"\"\"\n",
    "    (?P<host>\\d+\\.\\d+\\.\\d+\\.\\d+)\\s+-\\s\n",
    "    (?P<user_name>[\\w-]+)\\s\\[\n",
    "    (?P<time>[\\w/: -]+)]\\s\"\n",
    "    (?P<request>POST[\\w/: -.\"]+)\n",
    "    \"\"\"\n",
    "    for i in re.finditer(pattern,logdata,re.VERBOSE):\n",
    "        lista.append(i.groupdict())\n",
    "    return lista\n",
    "    \n",
    "len(logs())"
   ]
  },
  {
   "cell_type": "code",
   "execution_count": null,
   "metadata": {},
   "outputs": [],
   "source": []
  }
 ],
 "metadata": {
  "kernelspec": {
   "display_name": "data",
   "language": "python",
   "name": "python3"
  },
  "language_info": {
   "codemirror_mode": {
    "name": "ipython",
    "version": 3
   },
   "file_extension": ".py",
   "mimetype": "text/x-python",
   "name": "python",
   "nbconvert_exporter": "python",
   "pygments_lexer": "ipython3",
   "version": "3.12.1"
  }
 },
 "nbformat": 4,
 "nbformat_minor": 2
}
